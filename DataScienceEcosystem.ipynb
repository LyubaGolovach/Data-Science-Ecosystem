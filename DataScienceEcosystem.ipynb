{
 "cells": [
  {
   "cell_type": "markdown",
   "id": "dd3fe4ae-dd53-44fb-8431-95ee8cad0a94",
   "metadata": {},
   "source": [
    "# Data Science Tools and Ecosystem"
   ]
  },
  {
   "cell_type": "markdown",
   "id": "414da1e6-42ae-4c2f-9560-247233492044",
   "metadata": {},
   "source": [
    "This notebook describes the Data Science Tools and Ecosystem that we have been introduced to during this course."
   ]
  },
  {
   "cell_type": "markdown",
   "id": "20a26f65-e952-4af3-9703-df33f438369e",
   "metadata": {},
   "source": [
    "**Objectives:**\n",
    "* List popular languages for Data Science\n",
    "* List popular libraries for Data Science\n",
    "* Using popular development environments for Data Science\n",
    "* Working with a version control system\n",
    "  \n"
   ]
  },
  {
   "cell_type": "markdown",
   "id": "ee9ff488-f208-490a-b291-5863b5d3c6a9",
   "metadata": {},
   "source": [
    "Some of the popular languages that Data Scientists use are:\n",
    "1. Python\n",
    "2. R\n",
    "3. SQL\n",
    "4. Scala\n",
    "5. Java\n",
    "6. Julia"
   ]
  },
  {
   "cell_type": "markdown",
   "id": "c0e7276a-618a-4a81-a43c-27af16597d0a",
   "metadata": {},
   "source": [
    "Some of the commonly used libraries used by Data Scientists include:\n",
    "\n",
    "1. Pandas\n",
    "2. NumPy\n",
    "3. Matplotlib\n",
    "4. Seaborn\n",
    "5. Scikit-learn\n",
    "6. SciPy\n",
    "7. TensorFlow\n",
    "8. PyTorch\n",
    "9. Keras"
   ]
  },
  {
   "cell_type": "markdown",
   "id": "c97133b2-7bac-4440-a119-93c78d274424",
   "metadata": {},
   "source": [
    "Data Science Tools |\n",
    "------------------- |\n",
    "Jupyter Notebook |\n",
    "RStudio |\n",
    "VS Code |\n",
    "\n"
   ]
  },
  {
   "cell_type": "markdown",
   "id": "1e58989a-021e-4d1d-b30e-0a6086a388f3",
   "metadata": {},
   "source": [
    "\n",
    "\n",
    "### Below are some examples of calculating simple arithmetic expressions in Python\n"
   ]
  },
  {
   "cell_type": "code",
   "execution_count": 12,
   "id": "8ea31821-20a0-4b55-8097-6903d9c7ce56",
   "metadata": {},
   "outputs": [
    {
     "data": {
      "text/plain": [
       "17"
      ]
     },
     "execution_count": 12,
     "metadata": {},
     "output_type": "execute_result"
    }
   ],
   "source": [
    "#This a simple arithmetic expression to mutiply then add integers\n",
    "(3*4)+5\n"
   ]
  },
  {
   "cell_type": "code",
   "execution_count": 18,
   "id": "0a1f2f74-ed00-49dd-b670-b7487f806b2a",
   "metadata": {},
   "outputs": [
    {
     "data": {
      "text/plain": [
       "3.3333333333333335"
      ]
     },
     "execution_count": 18,
     "metadata": {},
     "output_type": "execute_result"
    }
   ],
   "source": [
    "# This will convert 200 minutes to hours by diving by 60\n",
    "200/60\n"
   ]
  },
  {
   "cell_type": "code",
   "execution_count": 24,
   "id": "8813df37-cfdb-4ad8-92df-c3ddcc962ff5",
   "metadata": {},
   "outputs": [
    {
     "data": {
      "text/plain": [
       "3.33"
      ]
     },
     "execution_count": 24,
     "metadata": {},
     "output_type": "execute_result"
    }
   ],
   "source": [
    "# The task is not required, but the rounded result is below\n",
    "round(200/60, 2)"
   ]
  },
  {
   "cell_type": "markdown",
   "id": "ac2ad828-0932-43fe-a674-d162126af1d7",
   "metadata": {},
   "source": [
    "## Author\n",
    "Lyuba Golovach\n"
   ]
  },
  {
   "cell_type": "code",
   "execution_count": null,
   "id": "c0a930ad-05ac-4efd-b491-c4f39333d8c3",
   "metadata": {},
   "outputs": [],
   "source": []
  }
 ],
 "metadata": {
  "kernelspec": {
   "display_name": "Python 3 (ipykernel)",
   "language": "python",
   "name": "python3"
  },
  "language_info": {
   "codemirror_mode": {
    "name": "ipython",
    "version": 3
   },
   "file_extension": ".py",
   "mimetype": "text/x-python",
   "name": "python",
   "nbconvert_exporter": "python",
   "pygments_lexer": "ipython3",
   "version": "3.12.7"
  }
 },
 "nbformat": 4,
 "nbformat_minor": 5
}
